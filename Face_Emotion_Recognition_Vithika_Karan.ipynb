{
  "nbformat": 4,
  "nbformat_minor": 0,
  "metadata": {
    "colab": {
      "name": "Face Emotion Recognition- Vithika Karan.ipynb",
      "provenance": [],
      "collapsed_sections": [],
      "mount_file_id": "1IYZLgdsl2lZcI7rDBj3BLeKM2cmIB3hp",
      "authorship_tag": "ABX9TyNtLPMLQZZ64LzLq45NSaLL",
      "include_colab_link": true
    },
    "kernelspec": {
      "name": "python3",
      "display_name": "Python 3"
    },
    "language_info": {
      "name": "python"
    },
    "accelerator": "GPU"
  },
  "cells": [
    {
      "cell_type": "markdown",
      "metadata": {
        "id": "view-in-github",
        "colab_type": "text"
      },
      "source": [
        "<a href=\"https://colab.research.google.com/github/vithika-karan/Face-Emotion-Recognition/blob/main/Face_Emotion_Recognition_Vithika_Karan.ipynb\" target=\"_parent\"><img src=\"https://colab.research.google.com/assets/colab-badge.svg\" alt=\"Open In Colab\"/></a>"
      ]
    },
    {
      "cell_type": "markdown",
      "source": [
        "##**Project Introduction**\n",
        "\n",
        "\n",
        "The Indian education landscape has been undergoing rapid changes for the past 10 years owing to\n",
        "the advancement of web-based learning services, specifically, eLearning platforms.\n",
        "Global E-learning is estimated to witness an 8X over the next 5 years to reach USD 2B in 2021. India\n",
        "is expected to grow with a CAGR of 44% crossing the 10M users mark in 2021. Although the market\n",
        "is growing on a rapid scale, there are major challenges associated with digital learning when\n",
        "compared with brick and mortar classrooms. One of many challenges is how to ensure quality\n",
        "learning for students. Digital platforms might overpower physical classrooms in terms of content\n",
        "quality but when it comes to understanding whether students are able to grasp the content in a live\n",
        "class scenario is yet an open-end challenge.\n",
        "In a physical classroom during a lecturing teacher can see the faces and assess the emotion of the\n",
        "class and tune their lecture accordingly, whether he is going fast or slow. He can identify students who\n",
        "need special attention. Digital classrooms are conducted via video telephony software program (exZoom) where it’s not possible for medium scale class (25-50) to see all students and access the\n",
        "mood. Because of this drawback, students are not focusing on content due to lack of surveillance.\n",
        "While digital platforms have limitations in terms of physical surveillance but it comes with the power of\n",
        "data and machines which can work for you. It provides data in the form of video, audio, and texts\n",
        "which can be analysed using deep learning algorithms. Deep learning backed system not only solves\n",
        "the surveillance issue, but it also removes the human bias from the system, and all information is no\n",
        "longer in the teacher’s brain rather translated in numbers that can be analysed and tracked.\n",
        "\n",
        "###**Project Problem Statement**\n",
        "We will solve the above-mentioned challenge by applying deep learning algorithms to live video data.\n",
        "The solution to this problem is by recognizing facial emotions.\n",
        "This is a few shot learning live face emotion detection system. The model should be able to real-time\n",
        "identify the emotions of students in a live class."
      ],
      "metadata": {
        "id": "7S0avgNktXTZ"
      }
    },
    {
      "cell_type": "code",
      "execution_count": 44,
      "metadata": {
        "id": "d-G3tIJGr3CA"
      },
      "outputs": [],
      "source": [
        "#importing libraries\n",
        "import pandas as pd \n",
        "import numpy as np\n",
        "import matplotlib.pyplot as plt\n",
        "import seaborn as sns\n",
        "from PIL import Image\n",
        "import os\n",
        "#model building\n",
        "from keras.models import Sequential\n",
        "from keras.layers import  Dense,Dropout,Activation,Flatten,BatchNormalization\n",
        "from keras.layers.convolutional import Convolution2D, MaxPooling2D, ZeroPadding2D\n",
        "from tensorflow.keras.optimizers import Adam, SGD\n",
        "from keras.callbacks import EarlyStopping\n",
        "#metric\n",
        "from sklearn.metrics import classification_report\n",
        "import cv2\n",
        "import warnings                                                                                \n",
        "warnings.filterwarnings('ignore')\n",
        "warnings.simplefilter('ignore')"
      ]
    },
    {
      "cell_type": "code",
      "source": [
        "#reading csv\n",
        "data = pd.read_csv(\"/content/drive/MyDrive/ALMABETTER/CAPSTONE PROJECTS/Face Emotion Recognition - Vithika Karan/Data & Resources/fer2013.csv\")"
      ],
      "metadata": {
        "id": "V4HTECwSFjCs"
      },
      "execution_count": 2,
      "outputs": []
    },
    {
      "cell_type": "code",
      "source": [
        "#data shape\n",
        "data.shape"
      ],
      "metadata": {
        "colab": {
          "base_uri": "https://localhost:8080/"
        },
        "id": "viPm5VZzF22m",
        "outputId": "63f95a27-7af4-4022-bdea-c91deabdf792"
      },
      "execution_count": 3,
      "outputs": [
        {
          "output_type": "execute_result",
          "data": {
            "text/plain": [
              "(35887, 3)"
            ]
          },
          "metadata": {},
          "execution_count": 3
        }
      ]
    },
    {
      "cell_type": "code",
      "source": [
        "#first three rows of the dataset\n",
        "data.head(3)"
      ],
      "metadata": {
        "colab": {
          "base_uri": "https://localhost:8080/",
          "height": 143
        },
        "id": "1ILRvJgbGZKQ",
        "outputId": "ed10320b-2424-4a1c-d653-9303c3a37b4b"
      },
      "execution_count": 4,
      "outputs": [
        {
          "output_type": "execute_result",
          "data": {
            "text/plain": [
              "   emotion                                             pixels     Usage\n",
              "0        0  70 80 82 72 58 58 60 63 54 58 60 48 89 115 121...  Training\n",
              "1        0  151 150 147 155 148 133 111 140 170 174 182 15...  Training\n",
              "2        2  231 212 156 164 174 138 161 173 182 200 106 38...  Training"
            ],
            "text/html": [
              "\n",
              "  <div id=\"df-eb640c8c-5658-4bb7-bb17-a39b6ab4547c\">\n",
              "    <div class=\"colab-df-container\">\n",
              "      <div>\n",
              "<style scoped>\n",
              "    .dataframe tbody tr th:only-of-type {\n",
              "        vertical-align: middle;\n",
              "    }\n",
              "\n",
              "    .dataframe tbody tr th {\n",
              "        vertical-align: top;\n",
              "    }\n",
              "\n",
              "    .dataframe thead th {\n",
              "        text-align: right;\n",
              "    }\n",
              "</style>\n",
              "<table border=\"1\" class=\"dataframe\">\n",
              "  <thead>\n",
              "    <tr style=\"text-align: right;\">\n",
              "      <th></th>\n",
              "      <th>emotion</th>\n",
              "      <th>pixels</th>\n",
              "      <th>Usage</th>\n",
              "    </tr>\n",
              "  </thead>\n",
              "  <tbody>\n",
              "    <tr>\n",
              "      <th>0</th>\n",
              "      <td>0</td>\n",
              "      <td>70 80 82 72 58 58 60 63 54 58 60 48 89 115 121...</td>\n",
              "      <td>Training</td>\n",
              "    </tr>\n",
              "    <tr>\n",
              "      <th>1</th>\n",
              "      <td>0</td>\n",
              "      <td>151 150 147 155 148 133 111 140 170 174 182 15...</td>\n",
              "      <td>Training</td>\n",
              "    </tr>\n",
              "    <tr>\n",
              "      <th>2</th>\n",
              "      <td>2</td>\n",
              "      <td>231 212 156 164 174 138 161 173 182 200 106 38...</td>\n",
              "      <td>Training</td>\n",
              "    </tr>\n",
              "  </tbody>\n",
              "</table>\n",
              "</div>\n",
              "      <button class=\"colab-df-convert\" onclick=\"convertToInteractive('df-eb640c8c-5658-4bb7-bb17-a39b6ab4547c')\"\n",
              "              title=\"Convert this dataframe to an interactive table.\"\n",
              "              style=\"display:none;\">\n",
              "        \n",
              "  <svg xmlns=\"http://www.w3.org/2000/svg\" height=\"24px\"viewBox=\"0 0 24 24\"\n",
              "       width=\"24px\">\n",
              "    <path d=\"M0 0h24v24H0V0z\" fill=\"none\"/>\n",
              "    <path d=\"M18.56 5.44l.94 2.06.94-2.06 2.06-.94-2.06-.94-.94-2.06-.94 2.06-2.06.94zm-11 1L8.5 8.5l.94-2.06 2.06-.94-2.06-.94L8.5 2.5l-.94 2.06-2.06.94zm10 10l.94 2.06.94-2.06 2.06-.94-2.06-.94-.94-2.06-.94 2.06-2.06.94z\"/><path d=\"M17.41 7.96l-1.37-1.37c-.4-.4-.92-.59-1.43-.59-.52 0-1.04.2-1.43.59L10.3 9.45l-7.72 7.72c-.78.78-.78 2.05 0 2.83L4 21.41c.39.39.9.59 1.41.59.51 0 1.02-.2 1.41-.59l7.78-7.78 2.81-2.81c.8-.78.8-2.07 0-2.86zM5.41 20L4 18.59l7.72-7.72 1.47 1.35L5.41 20z\"/>\n",
              "  </svg>\n",
              "      </button>\n",
              "      \n",
              "  <style>\n",
              "    .colab-df-container {\n",
              "      display:flex;\n",
              "      flex-wrap:wrap;\n",
              "      gap: 12px;\n",
              "    }\n",
              "\n",
              "    .colab-df-convert {\n",
              "      background-color: #E8F0FE;\n",
              "      border: none;\n",
              "      border-radius: 50%;\n",
              "      cursor: pointer;\n",
              "      display: none;\n",
              "      fill: #1967D2;\n",
              "      height: 32px;\n",
              "      padding: 0 0 0 0;\n",
              "      width: 32px;\n",
              "    }\n",
              "\n",
              "    .colab-df-convert:hover {\n",
              "      background-color: #E2EBFA;\n",
              "      box-shadow: 0px 1px 2px rgba(60, 64, 67, 0.3), 0px 1px 3px 1px rgba(60, 64, 67, 0.15);\n",
              "      fill: #174EA6;\n",
              "    }\n",
              "\n",
              "    [theme=dark] .colab-df-convert {\n",
              "      background-color: #3B4455;\n",
              "      fill: #D2E3FC;\n",
              "    }\n",
              "\n",
              "    [theme=dark] .colab-df-convert:hover {\n",
              "      background-color: #434B5C;\n",
              "      box-shadow: 0px 1px 3px 1px rgba(0, 0, 0, 0.15);\n",
              "      filter: drop-shadow(0px 1px 2px rgba(0, 0, 0, 0.3));\n",
              "      fill: #FFFFFF;\n",
              "    }\n",
              "  </style>\n",
              "\n",
              "      <script>\n",
              "        const buttonEl =\n",
              "          document.querySelector('#df-eb640c8c-5658-4bb7-bb17-a39b6ab4547c button.colab-df-convert');\n",
              "        buttonEl.style.display =\n",
              "          google.colab.kernel.accessAllowed ? 'block' : 'none';\n",
              "\n",
              "        async function convertToInteractive(key) {\n",
              "          const element = document.querySelector('#df-eb640c8c-5658-4bb7-bb17-a39b6ab4547c');\n",
              "          const dataTable =\n",
              "            await google.colab.kernel.invokeFunction('convertToInteractive',\n",
              "                                                     [key], {});\n",
              "          if (!dataTable) return;\n",
              "\n",
              "          const docLinkHtml = 'Like what you see? Visit the ' +\n",
              "            '<a target=\"_blank\" href=https://colab.research.google.com/notebooks/data_table.ipynb>data table notebook</a>'\n",
              "            + ' to learn more about interactive tables.';\n",
              "          element.innerHTML = '';\n",
              "          dataTable['output_type'] = 'display_data';\n",
              "          await google.colab.output.renderOutput(dataTable, element);\n",
              "          const docLink = document.createElement('div');\n",
              "          docLink.innerHTML = docLinkHtml;\n",
              "          element.appendChild(docLink);\n",
              "        }\n",
              "      </script>\n",
              "    </div>\n",
              "  </div>\n",
              "  "
            ]
          },
          "metadata": {},
          "execution_count": 4
        }
      ]
    },
    {
      "cell_type": "code",
      "source": [
        "#check for null values\n",
        "data.isnull().sum()"
      ],
      "metadata": {
        "colab": {
          "base_uri": "https://localhost:8080/"
        },
        "id": "L-fJAlEGGVR4",
        "outputId": "7dab7930-9112-469b-afae-7709cc573a36"
      },
      "execution_count": 5,
      "outputs": [
        {
          "output_type": "execute_result",
          "data": {
            "text/plain": [
              "emotion    0\n",
              "pixels     0\n",
              "Usage      0\n",
              "dtype: int64"
            ]
          },
          "metadata": {},
          "execution_count": 5
        }
      ]
    },
    {
      "cell_type": "markdown",
      "source": [
        "There are no null values in the dataset.\n"
      ],
      "metadata": {
        "id": "5CrkrMtx9xAD"
      }
    },
    {
      "cell_type": "code",
      "source": [
        "#lets check the value counts in usage\n",
        "data['Usage'].value_counts()"
      ],
      "metadata": {
        "colab": {
          "base_uri": "https://localhost:8080/"
        },
        "id": "Tre0OwAu-6kb",
        "outputId": "2d4cdcae-4ac2-4194-e48d-164dff4c3384"
      },
      "execution_count": 6,
      "outputs": [
        {
          "output_type": "execute_result",
          "data": {
            "text/plain": [
              "Training       28709\n",
              "PublicTest      3589\n",
              "PrivateTest     3589\n",
              "Name: Usage, dtype: int64"
            ]
          },
          "metadata": {},
          "execution_count": 6
        }
      ]
    },
    {
      "cell_type": "code",
      "source": [
        "#lets check the value counts in emotion column\n",
        "data['emotion'].value_counts()"
      ],
      "metadata": {
        "colab": {
          "base_uri": "https://localhost:8080/"
        },
        "id": "mrwJZMqi91-o",
        "outputId": "b12732fa-970c-4048-dcd2-efb39fa8f791"
      },
      "execution_count": 7,
      "outputs": [
        {
          "output_type": "execute_result",
          "data": {
            "text/plain": [
              "3    8989\n",
              "6    6198\n",
              "4    6077\n",
              "2    5121\n",
              "0    4953\n",
              "5    4002\n",
              "1     547\n",
              "Name: emotion, dtype: int64"
            ]
          },
          "metadata": {},
          "execution_count": 7
        }
      ]
    },
    {
      "cell_type": "markdown",
      "source": [
        "There are counts for seven emotions. Let's try to explore the images for these classes."
      ],
      "metadata": {
        "id": "KjzAw6M--zjD"
      }
    },
    {
      "cell_type": "markdown",
      "source": [
        "###Exploratory Data Analysis"
      ],
      "metadata": {
        "id": "izXMe379RPA4"
      }
    },
    {
      "cell_type": "code",
      "source": [
        "#function to show images of the various emotion classes\n",
        "def show_img(obs):\n",
        "  #pass observation and gather pixel and emotion class\n",
        "  pixels = obs['pixels']\n",
        "  emotion = obs['emotion']\n",
        "  #split object and convert to array\n",
        "  pic = np.array(pixels.split())\n",
        "  pic = pic.reshape(48,48)\n",
        "  image = np.zeros((48,48,3))\n",
        "  #slice image and put the picture in three channels\n",
        "  image[:,:,0] = pic\n",
        "  image[:,:,1] = pic\n",
        "  image[:,:,2] = pic\n",
        "  #return image array and emotion\n",
        "  return np.array([image.astype(np.uint8), emotion])\n",
        "\n",
        "#iterate over all emotions and plot the pixels through the function\n",
        "for emotion in range(1,8):\n",
        "    picture = data[data['emotion'] == emotion-1].iloc[0]\n",
        "    picture = show_img(picture)\n",
        "    plt.imshow(picture[0])\n",
        "    plt.title(picture[1])\n",
        "    plt.show()  "
      ],
      "metadata": {
        "colab": {
          "base_uri": "https://localhost:8080/",
          "height": 1000
        },
        "id": "yaITG0cj-j8B",
        "outputId": "fece0138-f3c9-4a11-fa92-265694a10e7f"
      },
      "execution_count": 8,
      "outputs": [
        {
          "output_type": "display_data",
          "data": {
            "text/plain": [
              "<Figure size 432x288 with 1 Axes>"
            ],
            "image/png": "[encoded data removed]"
          },
          "metadata": {
            "needs_background": "light"
          }
        },
        {
          "output_type": "display_data",
          "data": {
            "text/plain": [
              "<Figure size 432x288 with 1 Axes>"
            ],
            "image/png": "[encoded data removed]"
          },
          "metadata": {
            "needs_background": "light"
          }
        },
        {
          "output_type": "display_data",
          "data": {
            "text/plain": [
              "<Figure size 432x288 with 1 Axes>"
            ],
            "image/png": "[encoded data removed]"
          },
          "metadata": {
            "needs_background": "light"
          }
        },
        {
          "output_type": "display_data",
          "data": {
            "text/plain": [
              "<Figure size 432x288 with 1 Axes>"
            ],
            "image/png": "[encoded data removed]"
          },
          "metadata": {
            "needs_background": "light"
          }
        },
        {
          "output_type": "display_data",
          "data": {
            "text/plain": [
              "<Figure size 432x288 with 1 Axes>"
            ],
            "image/png": "[encoded data removed]"
          },
          "metadata": {
            "needs_background": "light"
          }
        },
        {
          "output_type": "display_data",
          "data": {
            "text/plain": [
              "<Figure size 432x288 with 1 Axes>"
            ],
            "image/png": "[encoded data removed]"
          },
          "metadata": {
            "needs_background": "light"
          }
        },
        {
          "output_type": "display_data",
          "data": {
            "text/plain": [
              "<Figure size 432x288 with 1 Axes>"
            ],
            "image/png": "[encoded data removed]"
          },
          "metadata": {
            "needs_background": "light"
          }
        }
      ]
    },
    {
      "cell_type": "markdown",
      "source": [
        "####Data Description\n",
        "The data consists of grayscale images of faces at a resolution of 48x48 pixels. The faces have been automatically registered such that they are more or less centred in each image and take up around the same amount of area.\n",
        "\n",
        "The goal is to categorize each face into one of seven categories based on the emotion expressed in the facial expression (0=Angry, 1=Disgust, 2=Fear, 3=Happy, 4=Sad, 5=Surprise, 6=Neutral). There are 28,709 examples in the training set and 3,589 examples in the public test set."
      ],
      "metadata": {
        "id": "JSigap7pQR5G"
      }
    },
    {
      "cell_type": "code",
      "source": [
        "#plotting a bar graph of the emotions\n",
        "#create dic of emotions\n",
        "emo_dict = {0:'Angry', 1:'Disgust', 2:'Fear', 3:'Happy', 4:'Sad', 5:'Surprise',6:'Neutral'}\n",
        "#creating a copy of data with actual categorial emotions\n",
        "df1 = data.copy()\n",
        "df1['emotion'] = df1['emotion'].map(emo_dict)\n",
        "#plotting\n",
        "sns.countplot(x=df1['emotion'])\n",
        "plt.title('Emotion Distribution')"
      ],
      "metadata": {
        "colab": {
          "base_uri": "https://localhost:8080/",
          "height": 312
        },
        "id": "eJbgapYVMR_w",
        "outputId": "7fcf1207-2a7a-4b57-b3a1-51755b519119"
      },
      "execution_count": 9,
      "outputs": [
        {
          "output_type": "execute_result",
          "data": {
            "text/plain": [
              "Text(0.5, 1.0, 'Emotion Distribution')"
            ]
          },
          "metadata": {},
          "execution_count": 9
        },
        {
          "output_type": "display_data",
          "data": {
            "text/plain": [
              "<Figure size 432x288 with 1 Axes>"
            ],
            "image/png": "[encoded data removed]"
          },
          "metadata": {
            "needs_background": "light"
          }
        }
      ]
    },
    {
      "cell_type": "markdown",
      "source": [
        "The number of happy pictures are the highest and disgusted pictures lowest in the dataset."
      ],
      "metadata": {
        "id": "f1DGsWKzhHYj"
      }
    },
    {
      "cell_type": "markdown",
      "source": [
        "###Data Pre-processing\n",
        "\n"
      ],
      "metadata": {
        "id": "kfo0EaLOcfum"
      }
    },
    {
      "cell_type": "code",
      "source": [
        "#splitting the data into train, validation and test set\n",
        "train_data = data[data['Usage']=='Training']\n",
        "val_data   = data[data['Usage']=='PublicTest']\n",
        "test_data  = data[data['Usage']=='PrivateTest']\n",
        "print(\"The shape of training set is: {}, \\nThe shape of validation set is: {}, \\nThe shape of test set is: {}\".format(train_data.shape, val_data.shape, test_data.shape))"
      ],
      "metadata": {
        "colab": {
          "base_uri": "https://localhost:8080/"
        },
        "id": "XG5nUt_yinBw",
        "outputId": "055a58ff-95c4-4d29-8246-1084f02e8a6c"
      },
      "execution_count": 10,
      "outputs": [
        {
          "output_type": "stream",
          "name": "stdout",
          "text": [
            "The shape of training set is: (28709, 3), \n",
            "The shape of validation set is: (3589, 3), \n",
            "The shape of test set is: (3589, 3)\n"
          ]
        }
      ]
    },
    {
      "cell_type": "code",
      "source": [
        "#reset index\n",
        "train_data.reset_index(drop=True, inplace=True)\n",
        "val_data.reset_index(drop=True, inplace=True)\n",
        "test_data.reset_index(drop=True, inplace=True)"
      ],
      "metadata": {
        "id": "GilE_g8hetxs"
      },
      "execution_count": 11,
      "outputs": []
    },
    {
      "cell_type": "code",
      "source": [
        "#dropping usage from the datasets\n",
        "train_data.drop('Usage',axis=1,inplace=True)\n",
        "val_data.drop('Usage',axis=1,inplace=True)\n",
        "test_data.drop('Usage',axis=1,inplace=True)"
      ],
      "metadata": {
        "id": "m_wQZqSRj3FA"
      },
      "execution_count": 12,
      "outputs": []
    },
    {
      "cell_type": "code",
      "source": [
        "#data splits\n",
        "X_train, y_train = train_data['pixels'], train_data['emotion']\n",
        "X_val, y_val = val_data['pixels'], val_data['emotion']\n",
        "X_test, y_test = test_data['pixels'], test_data['emotion']"
      ],
      "metadata": {
        "id": "0n7d-SkdU2v7"
      },
      "execution_count": 13,
      "outputs": []
    },
    {
      "cell_type": "markdown",
      "source": [
        "The method expects that images belonging to different classes are present in different folders but are inside the same parent folder. "
      ],
      "metadata": {
        "id": "AMq0RyEpAEfe"
      }
    },
    {
      "cell_type": "code",
      "source": [
        "#main data directory path\n",
        "path = \"/content/drive/MyDrive/ALMABETTER/CAPSTONE PROJECTS/Face Emotion Recognition - Vithika Karan/Data & Resources/\"\n",
        "train_path = os.path.join(path,'train')\n",
        "val_path = os.path.join(path,'valid')"
      ],
      "metadata": {
        "id": "-xMwTomfhJFn"
      },
      "execution_count": 14,
      "outputs": []
    },
    {
      "cell_type": "code",
      "source": [
        "#Create train and validation directories\n",
        "os.mkdir(train_path)\n",
        "os.mkdir(val_path)\n",
        "\n",
        "# Create sub-directories\n",
        "def emotion_dir(data_path,path,cat):\n",
        "  ''' The function takes in the data category path and creates directories for different emotion classes'''  \n",
        "  angry_path = os.path.join(path,data_path,cat+'angry')\n",
        "  os.mkdir(angry_path)\n",
        "\n",
        "  fear_path = os.path.join(path,data_path,cat+'fear')\n",
        "  os.mkdir(fear_path)\n",
        "\n",
        "  sad_path = os.path.join(path,data_path,cat+'sad')\n",
        "  os.mkdir(sad_path)\n",
        "\n",
        "  neutral_path = os.path.join(path,data_path,cat+'neutral')\n",
        "  os.mkdir(neutral_path)\n",
        "\n",
        "  happy_path = os.path.join(path,data_path,cat+'happy')\n",
        "  os.mkdir(happy_path)\n",
        "\n",
        "  surprise_path = os.path.join(path,data_path,cat+'surprise')\n",
        "  os.mkdir(surprise_path)\n",
        "\n",
        "  disgust_path = os.path.join(path,data_path,cat+'disgust')\n",
        "  os.mkdir(disgust_path)\n",
        "\n",
        "# train emotions\n",
        "emotion_dir('train',path,'train-')\n",
        "# validation directories\n",
        "emotion_dir('valid',path,'valid-')\n"
      ],
      "metadata": {
        "id": "6QG0IZzw9juV"
      },
      "execution_count": 13,
      "outputs": []
    },
    {
      "cell_type": "code",
      "source": [
        "#save images\n",
        "def save_imgs(df,df_path,path,df_cat):\n",
        "  '''This function takes in the dataframes and creates images and saves images in directories.'''\n",
        "  \n",
        "  for i in range(len(df)):\n",
        "      pixel_string = df['pixels'][i]\n",
        "      pixels = list(map(int, pixel_string.split()))\n",
        "      \n",
        "      matrix = np.array(pixels).reshape(48,48).astype(np.uint8)\n",
        "      img = Image.fromarray(matrix)\n",
        "\n",
        "      if df['emotion'][i] == 0:\n",
        "          img.save(path + df_path + df_cat+'angry/'+df_cat+'angry'+str(i)+'.png')\n",
        "      elif df['emotion'][i] == 1:\n",
        "          img.save(path + df_path + df_cat+'disgust/'+df_cat+'disgust'+str(i)+'.png')\n",
        "      elif df['emotion'][i] == 2:\n",
        "          img.save(path + df_path + df_cat+'fear/'+df_cat+'fear'+str(i)+'.png')\n",
        "      elif df['emotion'][i] == 3:\n",
        "          img.save(path + df_path + df_cat+'happy/'+df_cat+'happy'+str(i)+'.png')\n",
        "      elif df['emotion'][i] == 4:\n",
        "          img.save(path + df_path + df_cat+'sad/'+df_cat+'sad'+str(i)+'.png')\n",
        "      elif df['emotion'][i] == 5:\n",
        "          img.save(path + df_path + df_cat+'surprise/'+df_cat+'surprise'+str(i)+'.png')\n",
        "      elif df['emotion'][i] == 6:\n",
        "          img.save(path + df_path + df_cat+'neutral/'+df_cat+'neutral'+str(i)+'.png')\n",
        "\n",
        "#train images\n",
        "save_imgs(train_data,'train/',path,'train-')"
      ],
      "metadata": {
        "id": "kDOEQ8LwMpft"
      },
      "execution_count": 14,
      "outputs": []
    },
    {
      "cell_type": "code",
      "source": [
        "#validation images\n",
        "save_imgs(val_data,'valid/',path,'valid-')"
      ],
      "metadata": {
        "id": "uT0E5lAfie7H"
      },
      "execution_count": 15,
      "outputs": []
    },
    {
      "cell_type": "code",
      "source": [
        "#Image preprocessing\n",
        "from keras.preprocessing.image import ImageDataGenerator\n",
        "#Initialising the generators for the train and validation set\n",
        "#The rescale parameter ensures the input range in [0, 1] \n",
        "train_datagen = ImageDataGenerator(rescale = 1./255)\n",
        "val_datagen = ImageDataGenerator(rescale = 1./255)\n",
        "\n",
        "train_generator = train_datagen.flow_from_directory(\n",
        "        train_path,\n",
        "        target_size=(48,48),\n",
        "        batch_size=64,\n",
        "        color_mode=\"grayscale\",\n",
        "        class_mode='categorical')\n",
        "  \n",
        "val_generator = val_datagen.flow_from_directory(\n",
        "        val_path,\n",
        "        target_size=(48,48),\n",
        "        batch_size=64,\n",
        "        color_mode=\"grayscale\",\n",
        "        class_mode='categorical')"
      ],
      "metadata": {
        "colab": {
          "base_uri": "https://localhost:8080/"
        },
        "id": "oCqUg76ihGTo",
        "outputId": "ade81d92-a1c7-4a89-8141-56f79372a3c6"
      },
      "execution_count": 15,
      "outputs": [
        {
          "output_type": "stream",
          "name": "stdout",
          "text": [
            "Found 28709 images belonging to 7 classes.\n",
            "Found 3589 images belonging to 7 classes.\n"
          ]
        }
      ]
    },
    {
      "cell_type": "code",
      "source": [
        "#splitting string pixels\n",
        "for elem in [X_train,X_val,X_test]:\n",
        "  elem = elem.apply(lambda pixels : np.array([int(pixel) for pixel in pixels.split()]))\n",
        "  elem = elem.apply(lambda x : x.reshape(48,48,1))\n",
        "#array and reshaping\n",
        "X_train = np.array(X_train)\n",
        "y_train = np.array(y_train)\n",
        "X_val = np.array(X_val)\n",
        "y_val = np.array(y_val)\n",
        "X_test = np.array(X_test)\n",
        "y_test = np.array(y_test)"
      ],
      "metadata": {
        "id": "XxHMkxP3n6hD"
      },
      "execution_count": 16,
      "outputs": []
    },
    {
      "cell_type": "markdown",
      "source": [
        "###Model Building"
      ],
      "metadata": {
        "id": "fvmkDufqniOz"
      }
    },
    {
      "cell_type": "code",
      "source": [
        "# model\n",
        "model = Sequential()\n",
        "num_classes = 7\n",
        "#the 1st block\n",
        "model.add(Convolution2D(64, kernel_size=3, activation='relu', padding='same',input_shape=(48,48,1)))\n",
        "model.add(BatchNormalization())\n",
        "model.add(Convolution2D(64, kernel_size=3, activation='relu', padding='same',input_shape=(48,48,1)))\n",
        "model.add(BatchNormalization())\n",
        "model.add(MaxPooling2D(pool_size=(2,2)))\n",
        "model.add(Dropout(0.3))\n",
        "#the 2nd block\n",
        "model.add(Convolution2D(128, kernel_size=3, activation='relu', padding='same'))\n",
        "model.add(BatchNormalization())\n",
        "model.add(Convolution2D(128, kernel_size=3, activation='relu', padding='same'))\n",
        "model.add(BatchNormalization())\n",
        "model.add(MaxPooling2D(pool_size=(2,2)))\n",
        "model.add(Dropout(0.3))\n",
        "#the 3rd block\n",
        "model.add(Convolution2D(256, kernel_size=3, activation='relu', padding='same'))\n",
        "model.add(BatchNormalization())\n",
        "model.add(MaxPooling2D(pool_size=(2,2)))\n",
        "model.add(Dropout(0.3))\n",
        "#Flatten and output\n",
        "model.add(Flatten())\n",
        "model.add(Dense(num_classes, activation='softmax'))\n",
        "# summary layers\n",
        "model.summary()"
      ],
      "metadata": {
        "colab": {
          "base_uri": "https://localhost:8080/"
        },
        "id": "9EqS6T8qudFo",
        "outputId": "11e460ae-ce3c-4bee-af7b-85dd05f748fb"
      },
      "execution_count": 41,
      "outputs": [
        {
          "output_type": "stream",
          "name": "stdout",
          "text": [
            "Model: \"sequential_6\"\n",
            "_________________________________________________________________\n",
            " Layer (type)                Output Shape              Param #   \n",
            "=================================================================\n",
            " conv2d_51 (Conv2D)          (None, 48, 48, 64)        640       \n",
            "                                                                 \n",
            " batch_normalization_51 (Bat  (None, 48, 48, 64)       256       \n",
            " chNormalization)                                                \n",
            "                                                                 \n",
            " conv2d_52 (Conv2D)          (None, 48, 48, 64)        36928     \n",
            "                                                                 \n",
            " batch_normalization_52 (Bat  (None, 48, 48, 64)       256       \n",
            " chNormalization)                                                \n",
            "                                                                 \n",
            " max_pooling2d_21 (MaxPoolin  (None, 24, 24, 64)       0         \n",
            " g2D)                                                            \n",
            "                                                                 \n",
            " dropout_21 (Dropout)        (None, 24, 24, 64)        0         \n",
            "                                                                 \n",
            " conv2d_53 (Conv2D)          (None, 24, 24, 128)       73856     \n",
            "                                                                 \n",
            " batch_normalization_53 (Bat  (None, 24, 24, 128)      512       \n",
            " chNormalization)                                                \n",
            "                                                                 \n",
            " conv2d_54 (Conv2D)          (None, 24, 24, 128)       147584    \n",
            "                                                                 \n",
            " batch_normalization_54 (Bat  (None, 24, 24, 128)      512       \n",
            " chNormalization)                                                \n",
            "                                                                 \n",
            " max_pooling2d_22 (MaxPoolin  (None, 12, 12, 128)      0         \n",
            " g2D)                                                            \n",
            "                                                                 \n",
            " dropout_22 (Dropout)        (None, 12, 12, 128)       0         \n",
            "                                                                 \n",
            " conv2d_55 (Conv2D)          (None, 12, 12, 256)       295168    \n",
            "                                                                 \n",
            " batch_normalization_55 (Bat  (None, 12, 12, 256)      1024      \n",
            " chNormalization)                                                \n",
            "                                                                 \n",
            " max_pooling2d_23 (MaxPoolin  (None, 6, 6, 256)        0         \n",
            " g2D)                                                            \n",
            "                                                                 \n",
            " dropout_23 (Dropout)        (None, 6, 6, 256)         0         \n",
            "                                                                 \n",
            " flatten_6 (Flatten)         (None, 9216)              0         \n",
            "                                                                 \n",
            " dense_6 (Dense)             (None, 7)                 64519     \n",
            "                                                                 \n",
            "=================================================================\n",
            "Total params: 621,255\n",
            "Trainable params: 619,975\n",
            "Non-trainable params: 1,280\n",
            "_________________________________________________________________\n"
          ]
        }
      ]
    },
    {
      "cell_type": "code",
      "source": [
        "#model compiling\n",
        "optimizer = Adam(lr=0.0001, decay=1e-6)\n",
        "model.compile(loss='categorical_crossentropy', optimizer=optimizer, metrics=['accuracy'])"
      ],
      "metadata": {
        "id": "kcIZH32FGLsd"
      },
      "execution_count": 42,
      "outputs": []
    },
    {
      "cell_type": "code",
      "source": [
        "#training\n",
        "earlystop = EarlyStopping(monitor='val_loss',min_delta=0,patience=3,verbose=1,restore_best_weights=True)\n",
        "\n",
        "epochs = 10\n",
        "\n",
        "history=model.fit_generator(train_generator,\n",
        "                steps_per_epoch=len(X_train)//64,\n",
        "                epochs=epochs,\n",
        "                callbacks=earlystop,\n",
        "                verbose= 1,\n",
        "                validation_data=val_generator,\n",
        "                validation_steps=len(X_val)//64)"
      ],
      "metadata": {
        "colab": {
          "base_uri": "https://localhost:8080/"
        },
        "id": "raXuH9f5Rsey",
        "outputId": "e0326c65-3b72-4eb1-e765-e009dbab74fe"
      },
      "execution_count": 43,
      "outputs": [
        {
          "output_type": "stream",
          "name": "stdout",
          "text": [
            "Epoch 1/10\n",
            "448/448 [==============================] - 2314s 5s/step - loss: 2.4614 - accuracy: 0.2773 - val_loss: 1.7478 - val_accuracy: 0.3265\n",
            "Epoch 2/10\n",
            "448/448 [==============================] - 47s 106ms/step - loss: 2.0176 - accuracy: 0.3491 - val_loss: 1.5196 - val_accuracy: 0.4353\n",
            "Epoch 3/10\n",
            "448/448 [==============================] - 47s 105ms/step - loss: 1.8201 - accuracy: 0.3869 - val_loss: 1.4562 - val_accuracy: 0.4632\n",
            "Epoch 4/10\n",
            "448/448 [==============================] - 46s 104ms/step - loss: 1.6939 - accuracy: 0.4156 - val_loss: 1.4475 - val_accuracy: 0.4735\n",
            "Epoch 5/10\n",
            "448/448 [==============================] - 47s 105ms/step - loss: 1.6071 - accuracy: 0.4389 - val_loss: 1.3312 - val_accuracy: 0.5059\n",
            "Epoch 6/10\n",
            "448/448 [==============================] - 47s 104ms/step - loss: 1.5438 - accuracy: 0.4585 - val_loss: 1.3560 - val_accuracy: 0.4983\n",
            "Epoch 7/10\n",
            "448/448 [==============================] - 47s 104ms/step - loss: 1.4779 - accuracy: 0.4713 - val_loss: 1.3258 - val_accuracy: 0.5159\n",
            "Epoch 8/10\n",
            "448/448 [==============================] - 47s 104ms/step - loss: 1.4137 - accuracy: 0.4923 - val_loss: 1.3021 - val_accuracy: 0.5131\n",
            "Epoch 9/10\n",
            "448/448 [==============================] - 46s 103ms/step - loss: 1.3649 - accuracy: 0.5057 - val_loss: 1.2586 - val_accuracy: 0.5326\n",
            "Epoch 10/10\n",
            "448/448 [==============================] - 46s 104ms/step - loss: 1.3278 - accuracy: 0.5168 - val_loss: 1.2564 - val_accuracy: 0.5321\n"
          ]
        }
      ]
    },
    {
      "cell_type": "code",
      "source": [
        "#saving the history of the model in data frame \n",
        "model_df = pd.DataFrame(model.history.history)"
      ],
      "metadata": {
        "id": "uidc_JCKzTFo"
      },
      "execution_count": 45,
      "outputs": []
    },
    {
      "cell_type": "code",
      "source": [
        "#Plotting Loss\n",
        "model_df[['loss','val_loss']].plot()"
      ],
      "metadata": {
        "colab": {
          "base_uri": "https://localhost:8080/",
          "height": 282
        },
        "id": "0YwqyZhY9i5I",
        "outputId": "36b0e66c-26be-4aea-9015-55256a37bd96"
      },
      "execution_count": 46,
      "outputs": [
        {
          "output_type": "execute_result",
          "data": {
            "text/plain": [
              "<matplotlib.axes._subplots.AxesSubplot at 0x7f3b20489a10>"
            ]
          },
          "metadata": {},
          "execution_count": 46
        },
        {
          "output_type": "display_data",
          "data": {
            "text/plain": [
              "<Figure size 432x288 with 1 Axes>"
            ],
            "image/png": "[encoded data removed]"
          },
          "metadata": {
            "needs_background": "light"
          }
        }
      ]
    },
    {
      "cell_type": "code",
      "source": [
        "#Plotting accuracy\n",
        "model_df[['accuracy','val_accuracy']].plot()"
      ],
      "metadata": {
        "colab": {
          "base_uri": "https://localhost:8080/",
          "height": 282
        },
        "id": "c4rXZ_9J9rm4",
        "outputId": "9522bd07-1ea0-4969-8075-bb5204c95634"
      },
      "execution_count": 47,
      "outputs": [
        {
          "output_type": "execute_result",
          "data": {
            "text/plain": [
              "<matplotlib.axes._subplots.AxesSubplot at 0x7f3a94594190>"
            ]
          },
          "metadata": {},
          "execution_count": 47
        },
        {
          "output_type": "display_data",
          "data": {
            "text/plain": [
              "<Figure size 432x288 with 1 Axes>"
            ],
            "image/png": "[encoded data removed]"
          },
          "metadata": {
            "needs_background": "light"
          }
        }
      ]
    }
  ]
}