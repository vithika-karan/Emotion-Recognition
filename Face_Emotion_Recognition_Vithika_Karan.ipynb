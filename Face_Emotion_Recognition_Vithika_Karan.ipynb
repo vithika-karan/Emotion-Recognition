{
  "nbformat": 4,
  "nbformat_minor": 0,
  "metadata": {
    "colab": {
      "name": "Face Emotion Recognition- Vithika Karan.ipynb",
      "provenance": [],
      "collapsed_sections": [],
      "mount_file_id": "1IYZLgdsl2lZcI7rDBj3BLeKM2cmIB3hp",
      "authorship_tag": "ABX9TyNuJSBVXRcjfou0xWLk1WX/",
      "include_colab_link": true
    },
    "kernelspec": {
      "name": "python3",
      "display_name": "Python 3"
    },
    "language_info": {
      "name": "python"
    },
    "accelerator": "GPU"
  },
  "cells": [
    {
      "cell_type": "markdown",
      "metadata": {
        "id": "view-in-github",
        "colab_type": "text"
      },
      "source": [
        "<a href=\"https://colab.research.google.com/github/vithika-karan/Face-Emotion-Recognition/blob/main/Face_Emotion_Recognition_Vithika_Karan.ipynb\" target=\"_parent\"><img src=\"https://colab.research.google.com/assets/colab-badge.svg\" alt=\"Open In Colab\"/></a>"
      ]
    },
    {
      "cell_type": "markdown",
      "source": [
        "##**Project Introduction**\n",
        "\n",
        "\n",
        "The Indian education landscape has been undergoing rapid changes for the past 10 years owing to\n",
        "the advancement of web-based learning services, specifically, eLearning platforms.\n",
        "Global E-learning is estimated to witness an 8X over the next 5 years to reach USD 2B in 2021. India\n",
        "is expected to grow with a CAGR of 44% crossing the 10M users mark in 2021. Although the market\n",
        "is growing on a rapid scale, there are major challenges associated with digital learning when\n",
        "compared with brick and mortar classrooms. One of many challenges is how to ensure quality\n",
        "learning for students. Digital platforms might overpower physical classrooms in terms of content\n",
        "quality but when it comes to understanding whether students are able to grasp the content in a live\n",
        "class scenario is yet an open-end challenge.\n",
        "In a physical classroom during a lecturing teacher can see the faces and assess the emotion of the\n",
        "class and tune their lecture accordingly, whether he is going fast or slow. He can identify students who\n",
        "need special attention. Digital classrooms are conducted via video telephony software program (exZoom) where it’s not possible for medium scale class (25-50) to see all students and access the\n",
        "mood. Because of this drawback, students are not focusing on content due to lack of surveillance.\n",
        "While digital platforms have limitations in terms of physical surveillance but it comes with the power of\n",
        "data and machines which can work for you. It provides data in the form of video, audio, and texts\n",
        "which can be analysed using deep learning algorithms. Deep learning backed system not only solves\n",
        "the surveillance issue, but it also removes the human bias from the system, and all information is no\n",
        "longer in the teacher’s brain rather translated in numbers that can be analysed and tracked.\n",
        "\n",
        "###**Project Problem Statement**\n",
        "We will solve the above-mentioned challenge by applying deep learning algorithms to live video data.\n",
        "The solution to this problem is by recognizing facial emotions.\n",
        "This is a few shot learning live face emotion detection system. The model should be able to real-time\n",
        "identify the emotions of students in a live class."
      ],
      "metadata": {
        "id": "7S0avgNktXTZ"
      }
    },
    {
      "cell_type": "code",
      "execution_count": 1,
      "metadata": {
        "id": "d-G3tIJGr3CA"
      },
      "outputs": [],
      "source": [
        "#importing libraries\n",
        "#dataprocessing\n",
        "import pandas as pd \n",
        "import numpy as np\n",
        "import matplotlib.pyplot as plt\n",
        "import seaborn as sns\n",
        "from PIL import Image\n",
        "import tensorflow\n",
        "from tensorflow.keras.utils import to_categorical\n",
        "import os\n",
        "#model building\n",
        "from keras.models import Sequential\n",
        "from keras.layers import  Dense,Dropout,Activation,Flatten,BatchNormalization\n",
        "from keras.layers.convolutional import Convolution2D, MaxPooling2D, ZeroPadding2D\n",
        "from tensorflow.keras.optimizers import Adam, SGD\n",
        "from keras.callbacks import EarlyStopping\n",
        "#metric\n",
        "from sklearn.metrics import classification_report\n",
        "#real time\n",
        "import cv2\n",
        "import warnings                                                                                \n",
        "warnings.filterwarnings('ignore')\n",
        "warnings.simplefilter('ignore')"
      ]
    },
    {
      "cell_type": "code",
      "source": [
        "#reading csv\n",
        "data = pd.read_csv(\"/content/drive/MyDrive/ALMABETTER/CAPSTONE PROJECTS/Face Emotion Recognition - Vithika Karan/Data & Resources/fer2013.csv\")"
      ],
      "metadata": {
        "id": "V4HTECwSFjCs"
      },
      "execution_count": 2,
      "outputs": []
    },
    {
      "cell_type": "code",
      "source": [
        "#data shape\n",
        "data.shape"
      ],
      "metadata": {
        "colab": {
          "base_uri": "https://localhost:8080/"
        },
        "id": "viPm5VZzF22m",
        "outputId": "249d61b8-0b78-4ba9-caac-f2ff845c5cf8"
      },
      "execution_count": 3,
      "outputs": [
        {
          "output_type": "execute_result",
          "data": {
            "text/plain": [
              "(35887, 3)"
            ]
          },
          "metadata": {},
          "execution_count": 3
        }
      ]
    },
    {
      "cell_type": "code",
      "source": [
        "#first three rows of the dataset\n",
        "data.head(3)"
      ],
      "metadata": {
        "colab": {
          "base_uri": "https://localhost:8080/",
          "height": 143
        },
        "id": "1ILRvJgbGZKQ",
        "outputId": "93d6e93e-7e8f-4cdd-8efd-75ce3e84942e"
      },
      "execution_count": 4,
      "outputs": [
        {
          "output_type": "execute_result",
          "data": {
            "text/plain": [
              "   emotion                                             pixels     Usage\n",
              "0        0  70 80 82 72 58 58 60 63 54 58 60 48 89 115 121...  Training\n",
              "1        0  151 150 147 155 148 133 111 140 170 174 182 15...  Training\n",
              "2        2  231 212 156 164 174 138 161 173 182 200 106 38...  Training"
            ],
            "text/html": [
              "\n",
              "  <div id=\"df-54b04ad5-01b0-407d-ac37-e2408b642494\">\n",
              "    <div class=\"colab-df-container\">\n",
              "      <div>\n",
              "<style scoped>\n",
              "    .dataframe tbody tr th:only-of-type {\n",
              "        vertical-align: middle;\n",
              "    }\n",
              "\n",
              "    .dataframe tbody tr th {\n",
              "        vertical-align: top;\n",
              "    }\n",
              "\n",
              "    .dataframe thead th {\n",
              "        text-align: right;\n",
              "    }\n",
              "</style>\n",
              "<table border=\"1\" class=\"dataframe\">\n",
              "  <thead>\n",
              "    <tr style=\"text-align: right;\">\n",
              "      <th></th>\n",
              "      <th>emotion</th>\n",
              "      <th>pixels</th>\n",
              "      <th>Usage</th>\n",
              "    </tr>\n",
              "  </thead>\n",
              "  <tbody>\n",
              "    <tr>\n",
              "      <th>0</th>\n",
              "      <td>0</td>\n",
              "      <td>70 80 82 72 58 58 60 63 54 58 60 48 89 115 121...</td>\n",
              "      <td>Training</td>\n",
              "    </tr>\n",
              "    <tr>\n",
              "      <th>1</th>\n",
              "      <td>0</td>\n",
              "      <td>151 150 147 155 148 133 111 140 170 174 182 15...</td>\n",
              "      <td>Training</td>\n",
              "    </tr>\n",
              "    <tr>\n",
              "      <th>2</th>\n",
              "      <td>2</td>\n",
              "      <td>231 212 156 164 174 138 161 173 182 200 106 38...</td>\n",
              "      <td>Training</td>\n",
              "    </tr>\n",
              "  </tbody>\n",
              "</table>\n",
              "</div>\n",
              "      <button class=\"colab-df-convert\" onclick=\"convertToInteractive('df-54b04ad5-01b0-407d-ac37-e2408b642494')\"\n",
              "              title=\"Convert this dataframe to an interactive table.\"\n",
              "              style=\"display:none;\">\n",
              "        \n",
              "  <svg xmlns=\"http://www.w3.org/2000/svg\" height=\"24px\"viewBox=\"0 0 24 24\"\n",
              "       width=\"24px\">\n",
              "    <path d=\"M0 0h24v24H0V0z\" fill=\"none\"/>\n",
              "    <path d=\"M18.56 5.44l.94 2.06.94-2.06 2.06-.94-2.06-.94-.94-2.06-.94 2.06-2.06.94zm-11 1L8.5 8.5l.94-2.06 2.06-.94-2.06-.94L8.5 2.5l-.94 2.06-2.06.94zm10 10l.94 2.06.94-2.06 2.06-.94-2.06-.94-.94-2.06-.94 2.06-2.06.94z\"/><path d=\"M17.41 7.96l-1.37-1.37c-.4-.4-.92-.59-1.43-.59-.52 0-1.04.2-1.43.59L10.3 9.45l-7.72 7.72c-.78.78-.78 2.05 0 2.83L4 21.41c.39.39.9.59 1.41.59.51 0 1.02-.2 1.41-.59l7.78-7.78 2.81-2.81c.8-.78.8-2.07 0-2.86zM5.41 20L4 18.59l7.72-7.72 1.47 1.35L5.41 20z\"/>\n",
              "  </svg>\n",
              "      </button>\n",
              "      \n",
              "  <style>\n",
              "    .colab-df-container {\n",
              "      display:flex;\n",
              "      flex-wrap:wrap;\n",
              "      gap: 12px;\n",
              "    }\n",
              "\n",
              "    .colab-df-convert {\n",
              "      background-color: #E8F0FE;\n",
              "      border: none;\n",
              "      border-radius: 50%;\n",
              "      cursor: pointer;\n",
              "      display: none;\n",
              "      fill: #1967D2;\n",
              "      height: 32px;\n",
              "      padding: 0 0 0 0;\n",
              "      width: 32px;\n",
              "    }\n",
              "\n",
              "    .colab-df-convert:hover {\n",
              "      background-color: #E2EBFA;\n",
              "      box-shadow: 0px 1px 2px rgba(60, 64, 67, 0.3), 0px 1px 3px 1px rgba(60, 64, 67, 0.15);\n",
              "      fill: #174EA6;\n",
              "    }\n",
              "\n",
              "    [theme=dark] .colab-df-convert {\n",
              "      background-color: #3B4455;\n",
              "      fill: #D2E3FC;\n",
              "    }\n",
              "\n",
              "    [theme=dark] .colab-df-convert:hover {\n",
              "      background-color: #434B5C;\n",
              "      box-shadow: 0px 1px 3px 1px rgba(0, 0, 0, 0.15);\n",
              "      filter: drop-shadow(0px 1px 2px rgba(0, 0, 0, 0.3));\n",
              "      fill: #FFFFFF;\n",
              "    }\n",
              "  </style>\n",
              "\n",
              "      <script>\n",
              "        const buttonEl =\n",
              "          document.querySelector('#df-54b04ad5-01b0-407d-ac37-e2408b642494 button.colab-df-convert');\n",
              "        buttonEl.style.display =\n",
              "          google.colab.kernel.accessAllowed ? 'block' : 'none';\n",
              "\n",
              "        async function convertToInteractive(key) {\n",
              "          const element = document.querySelector('#df-54b04ad5-01b0-407d-ac37-e2408b642494');\n",
              "          const dataTable =\n",
              "            await google.colab.kernel.invokeFunction('convertToInteractive',\n",
              "                                                     [key], {});\n",
              "          if (!dataTable) return;\n",
              "\n",
              "          const docLinkHtml = 'Like what you see? Visit the ' +\n",
              "            '<a target=\"_blank\" href=https://colab.research.google.com/notebooks/data_table.ipynb>data table notebook</a>'\n",
              "            + ' to learn more about interactive tables.';\n",
              "          element.innerHTML = '';\n",
              "          dataTable['output_type'] = 'display_data';\n",
              "          await google.colab.output.renderOutput(dataTable, element);\n",
              "          const docLink = document.createElement('div');\n",
              "          docLink.innerHTML = docLinkHtml;\n",
              "          element.appendChild(docLink);\n",
              "        }\n",
              "      </script>\n",
              "    </div>\n",
              "  </div>\n",
              "  "
            ]
          },
          "metadata": {},
          "execution_count": 4
        }
      ]
    },
    {
      "cell_type": "code",
      "source": [
        "#check for null values\n",
        "data.isnull().sum()"
      ],
      "metadata": {
        "colab": {
          "base_uri": "https://localhost:8080/"
        },
        "id": "L-fJAlEGGVR4",
        "outputId": "1729a760-7f09-42bf-c06d-1c1df2990163"
      },
      "execution_count": 5,
      "outputs": [
        {
          "output_type": "execute_result",
          "data": {
            "text/plain": [
              "emotion    0\n",
              "pixels     0\n",
              "Usage      0\n",
              "dtype: int64"
            ]
          },
          "metadata": {},
          "execution_count": 5
        }
      ]
    },
    {
      "cell_type": "markdown",
      "source": [
        "There are no null values in the dataset.\n"
      ],
      "metadata": {
        "id": "5CrkrMtx9xAD"
      }
    },
    {
      "cell_type": "code",
      "source": [
        "#lets check the value counts in usage\n",
        "data['Usage'].value_counts()"
      ],
      "metadata": {
        "colab": {
          "base_uri": "https://localhost:8080/"
        },
        "id": "Tre0OwAu-6kb",
        "outputId": "4ec2f7d0-3bb6-4415-ea2a-5da8fd488827"
      },
      "execution_count": 6,
      "outputs": [
        {
          "output_type": "execute_result",
          "data": {
            "text/plain": [
              "Training       28709\n",
              "PublicTest      3589\n",
              "PrivateTest     3589\n",
              "Name: Usage, dtype: int64"
            ]
          },
          "metadata": {},
          "execution_count": 6
        }
      ]
    },
    {
      "cell_type": "code",
      "source": [
        "#lets check the value counts in emotion column\n",
        "data['emotion'].value_counts()"
      ],
      "metadata": {
        "colab": {
          "base_uri": "https://localhost:8080/"
        },
        "id": "mrwJZMqi91-o",
        "outputId": "365d2f0d-18bd-4f38-c4bb-35623336766e"
      },
      "execution_count": 7,
      "outputs": [
        {
          "output_type": "execute_result",
          "data": {
            "text/plain": [
              "3    8989\n",
              "6    6198\n",
              "4    6077\n",
              "2    5121\n",
              "0    4953\n",
              "5    4002\n",
              "1     547\n",
              "Name: emotion, dtype: int64"
            ]
          },
          "metadata": {},
          "execution_count": 7
        }
      ]
    },
    {
      "cell_type": "markdown",
      "source": [
        "There are counts for seven emotions. Let's try to explore the images for these classes."
      ],
      "metadata": {
        "id": "KjzAw6M--zjD"
      }
    },
    {
      "cell_type": "markdown",
      "source": [
        "####**Exploratory Data Analysis**"
      ],
      "metadata": {
        "id": "izXMe379RPA4"
      }
    },
    {
      "cell_type": "code",
      "source": [
        "def show_img(df_row,pixel_string_col,class_col):\n",
        "  '''The function takes in pixels in the form of strings and \n",
        "    respective class of the picture; preprocessess it and returns an array of image matrix of 48X48 \n",
        "    and the class which can be easily plotted to visualize the image.\n",
        "    Parameters:\n",
        "    df_row: A row of a dataframe which has two columns, one containing pixels in string datatype\n",
        "    and other labelled class\n",
        "    pixel_string_col: Name of the column containing the pixels (dtype:string)\n",
        "    class_col: Name of the column containing class (dtype:string)'''\n",
        "  #pass observation and gather pixel and emotion class\n",
        "  pixels = df_row[pixel_string_col]\n",
        "  label = df_row[class_col]\n",
        "  #split object and convert to array\n",
        "  pic = np.array(pixels.split())\n",
        "  pic = pic.reshape(48,48)\n",
        "  image = np.zeros((48,48,3))\n",
        "  #slice image and put the picture in three channels\n",
        "  image[:,:,0] = pic\n",
        "  image[:,:,1] = pic\n",
        "  image[:,:,2] = pic\n",
        "  #return image array and emotion\n",
        "  return np.array([image.astype(np.uint8), label])\n",
        "\n",
        "#iterate over all emotions and plot the pixels through the function\n",
        "import matplotlib.pyplot as plt\n",
        "for emotion in range(1,8):\n",
        "    picture = data[data['emotion'] == emotion-1].iloc[0]\n",
        "    picture = show_img(picture,'pixels','emotion')\n",
        "    plt.imshow(picture[0])\n",
        "    plt.title(picture[1])\n",
        "    plt.show()  "
      ],
      "metadata": {
        "colab": {
          "base_uri": "https://localhost:8080/",
          "height": 1000
        },
        "id": "yaITG0cj-j8B",
        "outputId": "c547792a-38a2-4a94-f119-3a5e464d3610"
      },
      "execution_count": 8,
      "outputs": [
        {
          "output_type": "display_data",
          "data": {
            "text/plain": [
              "<Figure size 432x288 with 1 Axes>"
            ],
            "image/png": "[encoded data removed]"
          },
          "metadata": {
            "needs_background": "light"
          }
        },
        {
          "output_type": "display_data",
          "data": {
            "text/plain": [
              "<Figure size 432x288 with 1 Axes>"
            ],
            "image/png": "[encoded data removed]"
          },
          "metadata": {
            "needs_background": "light"
          }
        },
        {
          "output_type": "display_data",
          "data": {
            "text/plain": [
              "<Figure size 432x288 with 1 Axes>"
            ],
            "image/png": "[encoded data removed]"
          },
          "metadata": {
            "needs_background": "light"
          }
        },
        {
          "output_type": "display_data",
          "data": {
            "text/plain": [
              "<Figure size 432x288 with 1 Axes>"
            ],
            "image/png": "[encoded data removed]"
          },
          "metadata": {
            "needs_background": "light"
          }
        },
        {
          "output_type": "display_data",
          "data": {
            "text/plain": [
              "<Figure size 432x288 with 1 Axes>"
            ],
            "image/png": "[encoded data removed]"
          },
          "metadata": {
            "needs_background": "light"
          }
        },
        {
          "output_type": "display_data",
          "data": {
            "text/plain": [
              "<Figure size 432x288 with 1 Axes>"
            ],
            "image/png": "[encoded data removed]"
          },
          "metadata": {
            "needs_background": "light"
          }
        },
        {
          "output_type": "display_data",
          "data": {
            "text/plain": [
              "<Figure size 432x288 with 1 Axes>"
            ],
            "image/png": "[encoded data removed]"
          },
          "metadata": {
            "needs_background": "light"
          }
        }
      ]
    },
    {
      "cell_type": "markdown",
      "source": [
        "**Data Description**\n",
        "\n",
        "The data consists of grayscale images of faces at a resolution of 48x48 pixels. The faces have been automatically registered such that they are more or less centred in each image and take up around the same amount of area.\n",
        "\n",
        "The goal is to categorize each face into one of seven categories based on the emotion expressed in the facial expression (0=Angry, 1=Disgust, 2=Fear, 3=Happy, 4=Sad, 5=Surprise, 6=Neutral). There are 28,709 examples in the training set and 3,589 examples in the public test set."
      ],
      "metadata": {
        "id": "JSigap7pQR5G"
      }
    },
    {
      "cell_type": "code",
      "source": [
        "#plotting a bar graph of the emotions\n",
        "#create dic of emotions\n",
        "emo_dict = {0:'Angry', 1:'Disgust', 2:'Fear', 3:'Happy', 4:'Sad', 5:'Surprise',6:'Neutral'}\n",
        "#creating a copy of data with actual categorial emotions\n",
        "df1 = data.copy()\n",
        "df1['emotion'] = df1['emotion'].map(emo_dict)\n",
        "#plotting\n",
        "sns.countplot(x=df1['emotion'])\n",
        "plt.title('Emotion Distribution')"
      ],
      "metadata": {
        "colab": {
          "base_uri": "https://localhost:8080/",
          "height": 312
        },
        "id": "eJbgapYVMR_w",
        "outputId": "8a6ade70-b9b9-485b-fc02-16d4377ce399"
      },
      "execution_count": 9,
      "outputs": [
        {
          "output_type": "execute_result",
          "data": {
            "text/plain": [
              "Text(0.5, 1.0, 'Emotion Distribution')"
            ]
          },
          "metadata": {},
          "execution_count": 9
        },
        {
          "output_type": "display_data",
          "data": {
            "text/plain": [
              "<Figure size 432x288 with 1 Axes>"
            ],
            "image/png": "[encoded data removed]"
          },
          "metadata": {
            "needs_background": "light"
          }
        }
      ]
    },
    {
      "cell_type": "markdown",
      "source": [
        "The number of happy pictures are the highest and disgusted pictures lowest in the dataset."
      ],
      "metadata": {
        "id": "f1DGsWKzhHYj"
      }
    },
    {
      "cell_type": "markdown",
      "source": [
        "####**Data Pre-processing**\n",
        "\n"
      ],
      "metadata": {
        "id": "kfo0EaLOcfum"
      }
    },
    {
      "cell_type": "code",
      "source": [
        "#splitting the data into train, validation and test set\n",
        "train_data = data[data['Usage']=='Training']\n",
        "val_data   = data[data['Usage']=='PublicTest']\n",
        "test_data  = data[data['Usage']=='PrivateTest']\n",
        "print(\"The shape of training set is: {}, \\nThe shape of validation set is: {}, \\nThe shape of test set is: {}\".format(train_data.shape, val_data.shape, test_data.shape))"
      ],
      "metadata": {
        "colab": {
          "base_uri": "https://localhost:8080/"
        },
        "id": "XG5nUt_yinBw",
        "outputId": "37224451-f18a-4dc2-aac7-295f5bb7bb93"
      },
      "execution_count": 10,
      "outputs": [
        {
          "output_type": "stream",
          "name": "stdout",
          "text": [
            "The shape of training set is: (28709, 3), \n",
            "The shape of validation set is: (3589, 3), \n",
            "The shape of test set is: (3589, 3)\n"
          ]
        }
      ]
    },
    {
      "cell_type": "code",
      "source": [
        "#resetting index and dropping usage\n",
        "for elem in [train_data,val_data,test_data]:\n",
        "    elem.reset_index(drop=True, inplace= True)\n",
        "    elem.drop('Usage',axis=1,inplace=True)"
      ],
      "metadata": {
        "id": "GilE_g8hetxs"
      },
      "execution_count": 11,
      "outputs": []
    },
    {
      "cell_type": "code",
      "source": [
        "#data preparation for test\n",
        "test_data['pixels'] = test_data['pixels'].apply(lambda pixels : [int(pixel) for pixel in pixels.split()])\n",
        "X_test = np.array(test_data['pixels'].tolist(), dtype='float32').reshape(-1,48,48,1)/255.0 \n",
        "y_test = to_categorical(test_data['emotion'],num_classes = 7,dtype =\"uint8\")"
      ],
      "metadata": {
        "id": "C9FX96QAbT8o"
      },
      "execution_count": 12,
      "outputs": []
    },
    {
      "cell_type": "markdown",
      "source": [
        "The method flow from directory for Image Data Augmentation expects that images belonging to different classes are present in different folders but are inside the same parent folder. Let's create that."
      ],
      "metadata": {
        "id": "AMq0RyEpAEfe"
      }
    },
    {
      "cell_type": "code",
      "source": [
        "#main data directory path\n",
        "path = \"/content/drive/MyDrive/ALMABETTER/CAPSTONE PROJECTS/Face Emotion Recognition - Vithika Karan/Data & Resources/\""
      ],
      "metadata": {
        "id": "-xMwTomfhJFn"
      },
      "execution_count": 13,
      "outputs": []
    },
    {
      "cell_type": "code",
      "source": [
        "#image data directory creation\n",
        "def create_dir(path,class_list):\n",
        "  ''' The function takes in the path and list of the classes to \n",
        "        create directories for different  classes\n",
        "        Parameters:\n",
        "        path: The path where train and validation directories needs to be created.\n",
        "        class_list: The list of labels in the dataset.''' \n",
        "  #Create train and validation directories\n",
        "  train_path = os.path.join(path,'train')\n",
        "  val_path = os.path.join(path,'valid')\n",
        "  os.mkdir(train_path)\n",
        "  os.mkdir(val_path) \n",
        "  for data_path,cat in {train_path:'train-',val_path:'valid-'}.items():\n",
        "    for label in class_list:\n",
        "      label_dir = os.path.join(data_path,cat+str(label))\n",
        "      os.mkdir(label_dir)\n",
        "  "
      ],
      "metadata": {
        "id": "6QG0IZzw9juV"
      },
      "execution_count": 14,
      "outputs": []
    },
    {
      "cell_type": "code",
      "source": [
        "#creating directories\n",
        "create_dir(path,[0,1,2,3,4,5,6])"
      ],
      "metadata": {
        "id": "t5Y3p9zHh-pc"
      },
      "execution_count": null,
      "outputs": []
    },
    {
      "cell_type": "code",
      "source": [
        "train_path = \"/content/drive/MyDrive/ALMABETTER/CAPSTONE PROJECTS/Face Emotion Recognition - Vithika Karan/Data & Resources/train\"\n",
        "val_path =  \"/content/drive/MyDrive/ALMABETTER/CAPSTONE PROJECTS/Face Emotion Recognition - Vithika Karan/Data & Resources/valid\""
      ],
      "metadata": {
        "id": "PQQMrExZ4ASA"
      },
      "execution_count": 15,
      "outputs": []
    },
    {
      "cell_type": "code",
      "source": [
        "#saving images\n",
        "def save_imgs(df,df_path,pixel_col,class_col,class_list,prefix):\n",
        "  '''This function takes in the dataframes and \n",
        "     creates images and saves images in directories.\n",
        "     Parameters: \n",
        "     df: Dataframe that needs to be converted.\n",
        "     df_path: Path to the directory (dtype-string)\n",
        "              Example- If the training ddataframe is fed, df_path should be the path\n",
        "              to rhe train directory created.\n",
        "     pixel_col: Name of the column containing pixels in string object\n",
        "     class_col: Name of the column for data labels\n",
        "     prefix: train- for training set, valid- for validation set  '''\n",
        "  \n",
        "  for i in range(len(df)):\n",
        "      pixel_string = df[pixel_col][i]\n",
        "      pixels = list(map(int, pixel_string.split()))\n",
        "      \n",
        "      matrix = np.array(pixels).reshape(48,48).astype(np.uint8)\n",
        "      img = Image.fromarray(matrix)\n",
        "      for label in class_list:\n",
        "        if str(df[class_col][i]) in prefix + str(label):\n",
        "            img.save(df_path +'/'+ prefix + str(label)+'/'+ prefix + str(label)+'-'+str(i)+'.png')\n",
        "        else:\n",
        "          continue\n"
      ],
      "metadata": {
        "id": "kDOEQ8LwMpft"
      },
      "execution_count": 16,
      "outputs": []
    },
    {
      "cell_type": "code",
      "source": [
        "#train images\n",
        "save_imgs(train_data,train_path,'pixels','emotion',[0,1,2,3,4,5,6],'train-')\n",
        "#validation images\n",
        "save_imgs(val_data,val_path,'pixels','emotion',[0,1,2,3,4,5,6],'valid-')"
      ],
      "metadata": {
        "id": "uT0E5lAfie7H"
      },
      "execution_count": null,
      "outputs": []
    },
    {
      "cell_type": "code",
      "source": [
        "#Image preprocessing\n",
        "from keras.preprocessing.image import ImageDataGenerator\n",
        "def img_data_gen(train_path,val_path,target_size,batch_size,color_mode,class_mode):\n",
        "  ''' The function generates augmented data rescales the validation images given the paths.\n",
        "  Parameters:\n",
        "  train_path: path to the train directory of the images\n",
        "  val_path: path to the validation directory of images\n",
        "  target_size: image target size; example: (48*48)\n",
        "  batch_size: The batches in which the data is supposed to be fed\n",
        "  color_mode: example: 'grayscale' or 'rgb'\n",
        "  class_mode: example: 'binary' or 'categorical'\n",
        "   '''\n",
        "  #Initialising the generators for the train and validation set\n",
        "  #The rescale parameter ensures the input range in [0, 1] \n",
        "  train_datagen = ImageDataGenerator(rescale = 1./255,rotation_range = 10,horizontal_flip = True,width_shift_range=0.1,height_shift_range=0.1,\n",
        "                                    fill_mode = 'nearest')\n",
        "  val_datagen = ImageDataGenerator(rescale = 1./255) #validation data should not be augmented\n",
        "\n",
        "  train_generator = train_datagen.flow_from_directory(\n",
        "          train_path,\n",
        "          target_size=target_size,\n",
        "          batch_size=batch_size,\n",
        "          color_mode=color_mode,\n",
        "          seed = 42,\n",
        "          shuffle= True,\n",
        "          class_mode=class_mode)\n",
        "    \n",
        "  val_generator = val_datagen.flow_from_directory(\n",
        "          val_path,\n",
        "          target_size=target_size,\n",
        "          batch_size=batch_size,\n",
        "          color_mode=color_mode,\n",
        "          seed = 42,\n",
        "          shuffle = True,\n",
        "          class_mode=class_mode)\n",
        "  \n",
        "  return train_generator, val_generator"
      ],
      "metadata": {
        "id": "oCqUg76ihGTo"
      },
      "execution_count": 17,
      "outputs": []
    },
    {
      "cell_type": "code",
      "source": [
        "#image generators\n",
        "train_gen, val_gen = img_data_gen(train_path,val_path,target_size=(48,48),batch_size=64,color_mode='grayscale',class_mode='categorical')"
      ],
      "metadata": {
        "colab": {
          "base_uri": "https://localhost:8080/"
        },
        "id": "jlGIP2HmlZnu",
        "outputId": "e262d6f1-c69f-4d26-d9a3-7b7ea60b7658"
      },
      "execution_count": 18,
      "outputs": [
        {
          "output_type": "stream",
          "name": "stdout",
          "text": [
            "Found 28709 images belonging to 7 classes.\n",
            "Found 3589 images belonging to 7 classes.\n"
          ]
        }
      ]
    },
    {
      "cell_type": "markdown",
      "source": [
        "####**Model Building**"
      ],
      "metadata": {
        "id": "fvmkDufqniOz"
      }
    },
    {
      "cell_type": "code",
      "source": [
        "# model\n",
        "model = Sequential()\n",
        "num_classes = 7\n",
        "#the 1st block\n",
        "model.add(Convolution2D(64, kernel_size=3, activation='relu', padding='same',input_shape=(48,48,1)))\n",
        "model.add(BatchNormalization())\n",
        "model.add(Convolution2D(64, kernel_size=3, activation='relu', padding='same',input_shape=(48,48,1)))\n",
        "model.add(BatchNormalization())\n",
        "model.add(MaxPooling2D(pool_size=(2,2)))\n",
        "model.add(Dropout(0.25))\n",
        "#the 2nd block\n",
        "model.add(Convolution2D(128, kernel_size=3, activation='relu', padding='same'))\n",
        "model.add(BatchNormalization())\n",
        "model.add(Convolution2D(128, kernel_size=3, activation='relu', padding='same'))\n",
        "model.add(BatchNormalization())\n",
        "model.add(Convolution2D(128, kernel_size=3, activation='relu', padding='same'))\n",
        "model.add(BatchNormalization())\n",
        "model.add(MaxPooling2D(pool_size=(2,2)))\n",
        "model.add(Dropout(0.3))\n",
        "#the 3rd block\n",
        "model.add(Convolution2D(256, kernel_size=3, activation='relu', padding='same'))\n",
        "model.add(BatchNormalization())\n",
        "model.add(Convolution2D(256, kernel_size=3, activation='relu', padding='same'))\n",
        "model.add(BatchNormalization())\n",
        "model.add(Convolution2D(256, kernel_size=3, activation='relu', padding='same'))\n",
        "model.add(BatchNormalization())\n",
        "model.add(MaxPooling2D(pool_size=(2,2)))\n",
        "model.add(Dropout(0.3))\n",
        "#the 4th block\n",
        "model.add(Convolution2D(256, kernel_size=3, activation='relu', padding='same'))\n",
        "model.add(BatchNormalization())\n",
        "model.add(Convolution2D(256, kernel_size=3, activation='relu', padding='same'))\n",
        "model.add(BatchNormalization())\n",
        "model.add(Convolution2D(256, kernel_size=3, activation='relu', padding='same'))\n",
        "model.add(BatchNormalization())\n",
        "model.add(MaxPooling2D(pool_size=(2,2)))\n",
        "model.add(Dropout(0.3))\n",
        "#Flatten and output\n",
        "model.add(Flatten())\n",
        "model.add(Dense(num_classes, activation='softmax'))\n",
        "# summary layers\n",
        "model.summary()"
      ],
      "metadata": {
        "id": "9EqS6T8qudFo",
        "colab": {
          "base_uri": "https://localhost:8080/"
        },
        "outputId": "bd7c1a2b-ff43-4472-b53e-d7a4ace42f0d"
      },
      "execution_count": 19,
      "outputs": [
        {
          "output_type": "stream",
          "name": "stdout",
          "text": [
            "Model: \"sequential\"\n",
            "_________________________________________________________________\n",
            " Layer (type)                Output Shape              Param #   \n",
            "=================================================================\n",
            " conv2d (Conv2D)             (None, 48, 48, 64)        640       \n",
            "                                                                 \n",
            " batch_normalization (BatchN  (None, 48, 48, 64)       256       \n",
            " ormalization)                                                   \n",
            "                                                                 \n",
            " conv2d_1 (Conv2D)           (None, 48, 48, 64)        36928     \n",
            "                                                                 \n",
            " batch_normalization_1 (Batc  (None, 48, 48, 64)       256       \n",
            " hNormalization)                                                 \n",
            "                                                                 \n",
            " max_pooling2d (MaxPooling2D  (None, 24, 24, 64)       0         \n",
            " )                                                               \n",
            "                                                                 \n",
            " dropout (Dropout)           (None, 24, 24, 64)        0         \n",
            "                                                                 \n",
            " conv2d_2 (Conv2D)           (None, 24, 24, 128)       73856     \n",
            "                                                                 \n",
            " batch_normalization_2 (Batc  (None, 24, 24, 128)      512       \n",
            " hNormalization)                                                 \n",
            "                                                                 \n",
            " conv2d_3 (Conv2D)           (None, 24, 24, 128)       147584    \n",
            "                                                                 \n",
            " batch_normalization_3 (Batc  (None, 24, 24, 128)      512       \n",
            " hNormalization)                                                 \n",
            "                                                                 \n",
            " conv2d_4 (Conv2D)           (None, 24, 24, 128)       147584    \n",
            "                                                                 \n",
            " batch_normalization_4 (Batc  (None, 24, 24, 128)      512       \n",
            " hNormalization)                                                 \n",
            "                                                                 \n",
            " max_pooling2d_1 (MaxPooling  (None, 12, 12, 128)      0         \n",
            " 2D)                                                             \n",
            "                                                                 \n",
            " dropout_1 (Dropout)         (None, 12, 12, 128)       0         \n",
            "                                                                 \n",
            " conv2d_5 (Conv2D)           (None, 12, 12, 256)       295168    \n",
            "                                                                 \n",
            " batch_normalization_5 (Batc  (None, 12, 12, 256)      1024      \n",
            " hNormalization)                                                 \n",
            "                                                                 \n",
            " conv2d_6 (Conv2D)           (None, 12, 12, 256)       590080    \n",
            "                                                                 \n",
            " batch_normalization_6 (Batc  (None, 12, 12, 256)      1024      \n",
            " hNormalization)                                                 \n",
            "                                                                 \n",
            " conv2d_7 (Conv2D)           (None, 12, 12, 256)       590080    \n",
            "                                                                 \n",
            " batch_normalization_7 (Batc  (None, 12, 12, 256)      1024      \n",
            " hNormalization)                                                 \n",
            "                                                                 \n",
            " max_pooling2d_2 (MaxPooling  (None, 6, 6, 256)        0         \n",
            " 2D)                                                             \n",
            "                                                                 \n",
            " dropout_2 (Dropout)         (None, 6, 6, 256)         0         \n",
            "                                                                 \n",
            " conv2d_8 (Conv2D)           (None, 6, 6, 256)         590080    \n",
            "                                                                 \n",
            " batch_normalization_8 (Batc  (None, 6, 6, 256)        1024      \n",
            " hNormalization)                                                 \n",
            "                                                                 \n",
            " conv2d_9 (Conv2D)           (None, 6, 6, 256)         590080    \n",
            "                                                                 \n",
            " batch_normalization_9 (Batc  (None, 6, 6, 256)        1024      \n",
            " hNormalization)                                                 \n",
            "                                                                 \n",
            " conv2d_10 (Conv2D)          (None, 6, 6, 256)         590080    \n",
            "                                                                 \n",
            " batch_normalization_10 (Bat  (None, 6, 6, 256)        1024      \n",
            " chNormalization)                                                \n",
            "                                                                 \n",
            " max_pooling2d_3 (MaxPooling  (None, 3, 3, 256)        0         \n",
            " 2D)                                                             \n",
            "                                                                 \n",
            " dropout_3 (Dropout)         (None, 3, 3, 256)         0         \n",
            "                                                                 \n",
            " flatten (Flatten)           (None, 2304)              0         \n",
            "                                                                 \n",
            " dense (Dense)               (None, 7)                 16135     \n",
            "                                                                 \n",
            "=================================================================\n",
            "Total params: 3,676,487\n",
            "Trainable params: 3,672,391\n",
            "Non-trainable params: 4,096\n",
            "_________________________________________________________________\n"
          ]
        }
      ]
    },
    {
      "cell_type": "code",
      "source": [
        "#model compiling\n",
        "optimizer = Adam(lr=0.0001, decay=1e-6)\n",
        "model.compile(loss='categorical_crossentropy', optimizer=optimizer, metrics=['accuracy'])"
      ],
      "metadata": {
        "id": "kcIZH32FGLsd"
      },
      "execution_count": 21,
      "outputs": []
    },
    {
      "cell_type": "code",
      "source": [
        "#training\n",
        "earlystop = EarlyStopping(monitor='val_loss',min_delta=0,patience = 15, verbose=1,restore_best_weights=True)\n",
        "\n",
        "epochs = 100\n",
        "#fitting\n",
        "history=model.fit_generator(train_gen,\n",
        "                steps_per_epoch=len(train_data)//64,\n",
        "                epochs=epochs,\n",
        "                callbacks=earlystop,\n",
        "                verbose= 1,\n",
        "                validation_data=val_gen,\n",
        "                validation_steps=len(val_data)//64)"
      ],
      "metadata": {
        "colab": {
          "base_uri": "https://localhost:8080/"
        },
        "id": "raXuH9f5Rsey",
        "outputId": "95c26ff0-59db-4cda-c9a9-ea7d5af70a80"
      },
      "execution_count": 24,
      "outputs": [
        {
          "output_type": "stream",
          "name": "stdout",
          "text": [
            "Epoch 1/100\n",
            "448/448 [==============================] - 91s 202ms/step - loss: 1.9615 - accuracy: 0.3032 - val_loss: 1.6287 - val_accuracy: 0.3770\n",
            "Epoch 2/100\n",
            "448/448 [==============================] - 91s 202ms/step - loss: 1.8459 - accuracy: 0.3469 - val_loss: 1.7281 - val_accuracy: 0.3839\n",
            "Epoch 3/100\n",
            "448/448 [==============================] - 90s 201ms/step - loss: 1.7471 - accuracy: 0.3819 - val_loss: 1.6788 - val_accuracy: 0.4191\n",
            "Epoch 4/100\n",
            "448/448 [==============================] - 90s 202ms/step - loss: 1.6619 - accuracy: 0.4141 - val_loss: 1.5967 - val_accuracy: 0.4467\n",
            "Epoch 5/100\n",
            "448/448 [==============================] - 90s 202ms/step - loss: 1.5809 - accuracy: 0.4385 - val_loss: 1.6362 - val_accuracy: 0.4713\n",
            "Epoch 6/100\n",
            "448/448 [==============================] - 90s 201ms/step - loss: 1.5101 - accuracy: 0.4699 - val_loss: 1.4835 - val_accuracy: 0.4997\n",
            "Epoch 7/100\n",
            "448/448 [==============================] - 90s 200ms/step - loss: 1.4475 - accuracy: 0.4927 - val_loss: 3.1870 - val_accuracy: 0.4330\n",
            "Epoch 8/100\n",
            "448/448 [==============================] - 91s 202ms/step - loss: 1.4002 - accuracy: 0.5044 - val_loss: 1.7952 - val_accuracy: 0.5181\n",
            "Epoch 9/100\n",
            "448/448 [==============================] - 91s 204ms/step - loss: 1.3504 - accuracy: 0.5246 - val_loss: 1.4803 - val_accuracy: 0.5379\n",
            "Epoch 10/100\n",
            "448/448 [==============================] - 90s 201ms/step - loss: 1.3070 - accuracy: 0.5317 - val_loss: 1.2529 - val_accuracy: 0.5572\n",
            "Epoch 11/100\n",
            "448/448 [==============================] - 90s 201ms/step - loss: 1.2268 - accuracy: 0.5476 - val_loss: 1.1617 - val_accuracy: 0.5672\n",
            "Epoch 12/100\n",
            "448/448 [==============================] - 90s 200ms/step - loss: 1.1597 - accuracy: 0.5670 - val_loss: 1.1563 - val_accuracy: 0.5728\n",
            "Epoch 13/100\n",
            "448/448 [==============================] - 90s 200ms/step - loss: 1.1391 - accuracy: 0.5719 - val_loss: 1.1529 - val_accuracy: 0.5675\n",
            "Epoch 14/100\n",
            "448/448 [==============================] - 90s 201ms/step - loss: 1.1125 - accuracy: 0.5794 - val_loss: 1.1247 - val_accuracy: 0.5851\n",
            "Epoch 15/100\n",
            "448/448 [==============================] - 92s 204ms/step - loss: 1.0855 - accuracy: 0.5953 - val_loss: 1.1410 - val_accuracy: 0.5795\n",
            "Epoch 16/100\n",
            "448/448 [==============================] - 90s 201ms/step - loss: 1.0722 - accuracy: 0.5976 - val_loss: 1.0689 - val_accuracy: 0.6004\n",
            "Epoch 17/100\n",
            "448/448 [==============================] - 90s 201ms/step - loss: 1.0459 - accuracy: 0.6054 - val_loss: 1.0517 - val_accuracy: 0.6113\n",
            "Epoch 18/100\n",
            "448/448 [==============================] - 91s 204ms/step - loss: 1.0317 - accuracy: 0.6096 - val_loss: 1.1260 - val_accuracy: 0.6013\n",
            "Epoch 19/100\n",
            "448/448 [==============================] - 91s 203ms/step - loss: 1.0137 - accuracy: 0.6199 - val_loss: 1.0826 - val_accuracy: 0.6108\n",
            "Epoch 20/100\n",
            "448/448 [==============================] - 91s 204ms/step - loss: 1.0020 - accuracy: 0.6264 - val_loss: 1.0896 - val_accuracy: 0.6150\n",
            "Epoch 21/100\n",
            "448/448 [==============================] - 91s 203ms/step - loss: 0.9858 - accuracy: 0.6295 - val_loss: 1.0349 - val_accuracy: 0.6144\n",
            "Epoch 22/100\n",
            "448/448 [==============================] - 91s 202ms/step - loss: 0.9666 - accuracy: 0.6366 - val_loss: 1.0625 - val_accuracy: 0.6141\n",
            "Epoch 23/100\n",
            "448/448 [==============================] - 91s 203ms/step - loss: 0.9565 - accuracy: 0.6413 - val_loss: 1.0890 - val_accuracy: 0.6236\n",
            "Epoch 24/100\n",
            "448/448 [==============================] - 91s 202ms/step - loss: 0.9428 - accuracy: 0.6457 - val_loss: 1.0232 - val_accuracy: 0.6267\n",
            "Epoch 25/100\n",
            "448/448 [==============================] - 91s 202ms/step - loss: 0.9284 - accuracy: 0.6509 - val_loss: 1.0100 - val_accuracy: 0.6264\n",
            "Epoch 26/100\n",
            "448/448 [==============================] - 91s 202ms/step - loss: 0.9132 - accuracy: 0.6564 - val_loss: 0.9996 - val_accuracy: 0.6426\n",
            "Epoch 27/100\n",
            "448/448 [==============================] - 90s 200ms/step - loss: 0.9055 - accuracy: 0.6602 - val_loss: 1.0165 - val_accuracy: 0.6314\n",
            "Epoch 28/100\n",
            "448/448 [==============================] - 90s 200ms/step - loss: 0.8881 - accuracy: 0.6667 - val_loss: 1.0239 - val_accuracy: 0.6242\n",
            "Epoch 29/100\n",
            "448/448 [==============================] - 91s 202ms/step - loss: 0.8742 - accuracy: 0.6750 - val_loss: 1.0159 - val_accuracy: 0.6283\n",
            "Epoch 30/100\n",
            "448/448 [==============================] - 91s 203ms/step - loss: 0.8627 - accuracy: 0.6752 - val_loss: 1.0533 - val_accuracy: 0.6261\n",
            "Epoch 31/100\n",
            "448/448 [==============================] - 90s 200ms/step - loss: 0.8513 - accuracy: 0.6818 - val_loss: 0.9934 - val_accuracy: 0.6479\n",
            "Epoch 32/100\n",
            "448/448 [==============================] - 91s 202ms/step - loss: 0.8491 - accuracy: 0.6835 - val_loss: 1.0446 - val_accuracy: 0.6328\n",
            "Epoch 33/100\n",
            "448/448 [==============================] - 90s 200ms/step - loss: 0.8270 - accuracy: 0.6904 - val_loss: 1.0140 - val_accuracy: 0.6364\n",
            "Epoch 34/100\n",
            "448/448 [==============================] - 91s 204ms/step - loss: 0.8153 - accuracy: 0.6966 - val_loss: 1.1414 - val_accuracy: 0.5988\n",
            "Epoch 35/100\n",
            "448/448 [==============================] - 91s 204ms/step - loss: 0.7977 - accuracy: 0.7013 - val_loss: 1.0056 - val_accuracy: 0.6456\n",
            "Epoch 36/100\n",
            "448/448 [==============================] - 90s 201ms/step - loss: 0.7928 - accuracy: 0.7008 - val_loss: 0.9948 - val_accuracy: 0.6484\n",
            "Epoch 37/100\n",
            "448/448 [==============================] - 91s 203ms/step - loss: 0.7776 - accuracy: 0.7102 - val_loss: 1.0470 - val_accuracy: 0.6473\n",
            "Epoch 38/100\n",
            "448/448 [==============================] - 90s 200ms/step - loss: 0.7646 - accuracy: 0.7146 - val_loss: 1.0016 - val_accuracy: 0.6456\n",
            "Epoch 39/100\n",
            "448/448 [==============================] - 90s 200ms/step - loss: 0.7535 - accuracy: 0.7175 - val_loss: 1.0103 - val_accuracy: 0.6588\n",
            "Epoch 40/100\n",
            "448/448 [==============================] - 89s 199ms/step - loss: 0.7527 - accuracy: 0.7203 - val_loss: 1.0443 - val_accuracy: 0.6490\n",
            "Epoch 41/100\n",
            "448/448 [==============================] - 89s 199ms/step - loss: 0.7404 - accuracy: 0.7237 - val_loss: 1.0225 - val_accuracy: 0.6465\n",
            "Epoch 42/100\n",
            "448/448 [==============================] - 88s 197ms/step - loss: 0.7338 - accuracy: 0.7268 - val_loss: 1.0079 - val_accuracy: 0.6557\n",
            "Epoch 43/100\n",
            "448/448 [==============================] - 89s 198ms/step - loss: 0.7235 - accuracy: 0.7296 - val_loss: 1.0391 - val_accuracy: 0.6437\n",
            "Epoch 44/100\n",
            "448/448 [==============================] - 89s 198ms/step - loss: 0.7083 - accuracy: 0.7371 - val_loss: 1.0081 - val_accuracy: 0.6562\n",
            "Epoch 45/100\n",
            "448/448 [==============================] - 89s 198ms/step - loss: 0.7075 - accuracy: 0.7381 - val_loss: 0.9825 - val_accuracy: 0.6643\n",
            "Epoch 46/100\n",
            "448/448 [==============================] - 89s 199ms/step - loss: 0.6916 - accuracy: 0.7434 - val_loss: 0.9881 - val_accuracy: 0.6624\n",
            "Epoch 47/100\n",
            "448/448 [==============================] - 89s 198ms/step - loss: 0.6784 - accuracy: 0.7469 - val_loss: 1.0373 - val_accuracy: 0.6641\n",
            "Epoch 48/100\n",
            "448/448 [==============================] - 90s 200ms/step - loss: 0.6727 - accuracy: 0.7489 - val_loss: 1.0535 - val_accuracy: 0.6635\n",
            "Epoch 49/100\n",
            "448/448 [==============================] - 89s 198ms/step - loss: 0.6553 - accuracy: 0.7551 - val_loss: 1.0275 - val_accuracy: 0.6576\n",
            "Epoch 50/100\n",
            "448/448 [==============================] - 89s 198ms/step - loss: 0.6495 - accuracy: 0.7550 - val_loss: 1.0627 - val_accuracy: 0.6490\n",
            "Epoch 51/100\n",
            "448/448 [==============================] - 89s 198ms/step - loss: 0.6421 - accuracy: 0.7572 - val_loss: 1.0310 - val_accuracy: 0.6599\n",
            "Epoch 52/100\n",
            "448/448 [==============================] - 93s 207ms/step - loss: 0.6263 - accuracy: 0.7666 - val_loss: 1.0357 - val_accuracy: 0.6629\n",
            "Epoch 53/100\n",
            "448/448 [==============================] - 91s 202ms/step - loss: 0.6199 - accuracy: 0.7655 - val_loss: 1.1297 - val_accuracy: 0.6303\n",
            "Epoch 54/100\n",
            "448/448 [==============================] - 93s 206ms/step - loss: 0.6040 - accuracy: 0.7723 - val_loss: 1.0975 - val_accuracy: 0.6696\n",
            "Epoch 55/100\n",
            "448/448 [==============================] - 93s 207ms/step - loss: 0.5919 - accuracy: 0.7819 - val_loss: 1.0701 - val_accuracy: 0.6719\n",
            "Epoch 56/100\n",
            "448/448 [==============================] - 92s 205ms/step - loss: 0.5892 - accuracy: 0.7821 - val_loss: 1.1131 - val_accuracy: 0.6585\n",
            "Epoch 57/100\n",
            "448/448 [==============================] - 92s 206ms/step - loss: 0.5778 - accuracy: 0.7868 - val_loss: 1.1577 - val_accuracy: 0.6521\n",
            "Epoch 58/100\n",
            "448/448 [==============================] - 91s 203ms/step - loss: 0.5736 - accuracy: 0.7868 - val_loss: 1.1438 - val_accuracy: 0.6699\n",
            "Epoch 59/100\n",
            "448/448 [==============================] - 90s 200ms/step - loss: 0.5680 - accuracy: 0.7904 - val_loss: 1.1274 - val_accuracy: 0.6543\n",
            "Epoch 60/100\n",
            "448/448 [==============================] - ETA: 0s - loss: 0.5516 - accuracy: 0.7926Restoring model weights from the end of the best epoch: 45.\n",
            "448/448 [==============================] - 90s 200ms/step - loss: 0.5516 - accuracy: 0.7926 - val_loss: 1.0928 - val_accuracy: 0.6713\n",
            "Epoch 60: early stopping\n"
          ]
        }
      ]
    },
    {
      "cell_type": "markdown",
      "source": [
        "####**Model Evaluation**"
      ],
      "metadata": {
        "id": "y5uWu1txlrCi"
      }
    },
    {
      "cell_type": "code",
      "source": [
        "#saving the history of the model in dataframe  \n",
        "model_df = pd.DataFrame(model.history.history)"
      ],
      "metadata": {
        "id": "uidc_JCKzTFo"
      },
      "execution_count": 25,
      "outputs": []
    },
    {
      "cell_type": "code",
      "source": [
        "#Plotting Loss \n",
        "model_df[['loss','val_loss']].plot()\n",
        "plt.title(\"Loss Plots for Training and Validation Sets\")"
      ],
      "metadata": {
        "id": "0YwqyZhY9i5I",
        "colab": {
          "base_uri": "https://localhost:8080/",
          "height": 298
        },
        "outputId": "753fbbd8-5754-4633-ecf4-1d0bfeeb36d9"
      },
      "execution_count": 27,
      "outputs": [
        {
          "output_type": "execute_result",
          "data": {
            "text/plain": [
              "Text(0.5, 1.0, 'Loss Plots for Training and Validation Sets')"
            ]
          },
          "metadata": {},
          "execution_count": 27
        },
        {
          "output_type": "display_data",
          "data": {
            "text/plain": [
              "<Figure size 432x288 with 1 Axes>"
            ],
            "image/png": "[encoded data removed]"
          },
          "metadata": {
            "needs_background": "light"
          }
        }
      ]
    },
    {
      "cell_type": "code",
      "source": [
        "#Plotting accuracy \n",
        "model_df[['accuracy','val_accuracy']].plot()\n",
        "plt.title(\"Accuracy Plots for Training and Validation Sets\")"
      ],
      "metadata": {
        "colab": {
          "base_uri": "https://localhost:8080/",
          "height": 298
        },
        "id": "c4rXZ_9J9rm4",
        "outputId": "3018b400-775c-4062-9ae6-c1d74358bb0e"
      },
      "execution_count": 29,
      "outputs": [
        {
          "output_type": "execute_result",
          "data": {
            "text/plain": [
              "Text(0.5, 1.0, 'Accuracy Plots for Training and Validation Sets')"
            ]
          },
          "metadata": {},
          "execution_count": 29
        },
        {
          "output_type": "display_data",
          "data": {
            "text/plain": [
              "<Figure size 432x288 with 1 Axes>"
            ],
            "image/png": "[encoded data removed]"
          },
          "metadata": {
            "needs_background": "light"
          }
        }
      ]
    },
    {
      "cell_type": "markdown",
      "source": [
        "**Predictions on Test Data**"
      ],
      "metadata": {
        "id": "jMTySws3WJLl"
      }
    },
    {
      "cell_type": "code",
      "source": [
        "#test predictions \n",
        "true_y  = np.argmax(y_test,axis=1)\n",
        "pred_y = np.argmax(model.predict(X_test),axis=1)\n",
        "print(classification_report(true_y,pred_y))"
      ],
      "metadata": {
        "id": "IoL7a6aIWOrs",
        "colab": {
          "base_uri": "https://localhost:8080/"
        },
        "outputId": "3ba38b5d-a8d4-403a-804c-3b7a52689072"
      },
      "execution_count": 30,
      "outputs": [
        {
          "output_type": "stream",
          "name": "stdout",
          "text": [
            "              precision    recall  f1-score   support\n",
            "\n",
            "           0       0.64      0.56      0.60       491\n",
            "           1       0.83      0.62      0.71        55\n",
            "           2       0.53      0.49      0.51       528\n",
            "           3       0.90      0.86      0.88       879\n",
            "           4       0.51      0.58      0.54       594\n",
            "           5       0.78      0.75      0.77       416\n",
            "           6       0.62      0.72      0.67       626\n",
            "\n",
            "    accuracy                           0.68      3589\n",
            "   macro avg       0.69      0.65      0.67      3589\n",
            "weighted avg       0.68      0.68      0.68      3589\n",
            "\n"
          ]
        }
      ]
    },
    {
      "cell_type": "markdown",
      "source": [
        "The predictions on the test set are pretty great with accuracy of 0.68."
      ],
      "metadata": {
        "id": "pezW3Xt5m4Ds"
      }
    },
    {
      "cell_type": "markdown",
      "source": [
        "####**Save the Model**"
      ],
      "metadata": {
        "id": "YrXn3R6oqU-_"
      }
    },
    {
      "cell_type": "code",
      "source": [
        "#saving model \n",
        "model.save(path+'Emotion Detection Model/emotion_detection.h5')"
      ],
      "metadata": {
        "id": "Oa-5MqjQqUbi"
      },
      "execution_count": 31,
      "outputs": []
    },
    {
      "cell_type": "markdown",
      "source": [
        "####**Real Time Emotion Detection**"
      ],
      "metadata": {
        "id": "WVdXB0_F_uxC"
      }
    },
    {
      "cell_type": "code",
      "source": [
        "#load model\n",
        "tensorflow.keras.models.load_model()"
      ],
      "metadata": {
        "id": "vXhry39z_38Z"
      },
      "execution_count": null,
      "outputs": []
    },
    {
      "cell_type": "code",
      "source": [
        "face_haar_cascade = cv2.CascadeClassifier('haarcascade_frontalface_default.xml')"
      ],
      "metadata": {
        "id": "q22TN68UCcWN"
      },
      "execution_count": null,
      "outputs": []
    },
    {
      "cell_type": "code",
      "source": [
        ""
      ],
      "metadata": {
        "id": "8DV3ekIf3V-F"
      },
      "execution_count": null,
      "outputs": []
    }
  ]
}